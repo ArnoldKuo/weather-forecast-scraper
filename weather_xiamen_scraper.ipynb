{
 "cells": [
  {
   "cell_type": "code",
   "execution_count": 2,
   "metadata": {},
   "outputs": [],
   "source": [
    "import requests as req\n",
    "from bs4 import BeautifulSoup as bs\n",
    "import pandas as pd"
   ]
  },
  {
   "cell_type": "code",
   "execution_count": 6,
   "metadata": {},
   "outputs": [],
   "source": [
    "page = req.get(\"http://www.nmc.cn/publish/forecast/AFJ/xiamen.html\")\n",
    "soup = bs(page.content, 'html.parser')\n",
    "\n",
    "seven_day = soup.find(id=\"forecast\")\n",
    "\n",
    "forecast_items = seven_day.find_all(class_=\"detail\")\n",
    "\n",
    "today = forecast_items[0]\n",
    "\n",
    "day_tags = seven_day.select(\".detail .day .date\")\n",
    "\n",
    "days = [day.get_text().replace(\" \", \"\").replace(\"\\n\",\"\") for day in day_tags]\n",
    "\n",
    "temps = [t.get_text().replace(\" \", \"\").replace(\"\\n\",\"\") for t in seven_day.select(\".detail .day .temp\")]\n",
    "\n",
    "descs = [d.get_text().replace(\" \", \"\").replace(\"\\n\",\"\") for d in seven_day.select(\".detail .day .wdesc\")]\n",
    "directs = [d.get_text().replace(\" \", \"\").replace(\"\\n\",\"\") for d in seven_day.select(\".detail .day .direct\")]\n",
    "winds = [w.get_text().replace(\" \", \"\").replace(\"\\n\",\"\") for w in seven_day.select(\".detail .day .wind\")]"
   ]
  },
  {
   "cell_type": "code",
   "execution_count": 30,
   "metadata": {},
   "outputs": [],
   "source": [
    "weather = pd.DataFrame({\n",
    "        \"日期\": days, \n",
    "        \"天气\": descs, \n",
    "        \"气温\": temps, \n",
    "        \"风向\":directs,\n",
    "        \"风力\": winds\n",
    "    })"
   ]
  },
  {
   "cell_type": "code",
   "execution_count": 31,
   "metadata": {},
   "outputs": [
    {
     "data": {
      "text/html": [
       "<div>\n",
       "<style scoped>\n",
       "    .dataframe tbody tr th:only-of-type {\n",
       "        vertical-align: middle;\n",
       "    }\n",
       "\n",
       "    .dataframe tbody tr th {\n",
       "        vertical-align: top;\n",
       "    }\n",
       "\n",
       "    .dataframe thead th {\n",
       "        text-align: right;\n",
       "    }\n",
       "</style>\n",
       "<table border=\"1\" class=\"dataframe\">\n",
       "  <thead>\n",
       "    <tr style=\"text-align: right;\">\n",
       "      <th></th>\n",
       "      <th>日期</th>\n",
       "      <th>天气</th>\n",
       "      <th>气温</th>\n",
       "      <th>风向</th>\n",
       "      <th>风力</th>\n",
       "    </tr>\n",
       "  </thead>\n",
       "  <tbody>\n",
       "    <tr>\n",
       "      <th>0</th>\n",
       "      <td>今天</td>\n",
       "      <td>阴</td>\n",
       "      <td>13℃</td>\n",
       "      <td>东北风</td>\n",
       "      <td>4~5级</td>\n",
       "    </tr>\n",
       "    <tr>\n",
       "      <th>1</th>\n",
       "      <td>明天</td>\n",
       "      <td>大雨</td>\n",
       "      <td>16℃</td>\n",
       "      <td>东北风</td>\n",
       "      <td>3~4级</td>\n",
       "    </tr>\n",
       "    <tr>\n",
       "      <th>2</th>\n",
       "      <td>后天</td>\n",
       "      <td>中雨</td>\n",
       "      <td>19℃</td>\n",
       "      <td>东北风</td>\n",
       "      <td>4~5级</td>\n",
       "    </tr>\n",
       "    <tr>\n",
       "      <th>3</th>\n",
       "      <td>03月07日</td>\n",
       "      <td>小雨</td>\n",
       "      <td>16℃</td>\n",
       "      <td>东北风</td>\n",
       "      <td>4~5级</td>\n",
       "    </tr>\n",
       "    <tr>\n",
       "      <th>4</th>\n",
       "      <td>03月08日</td>\n",
       "      <td>中雨</td>\n",
       "      <td>13℃</td>\n",
       "      <td>东北风</td>\n",
       "      <td>3~4级</td>\n",
       "    </tr>\n",
       "    <tr>\n",
       "      <th>5</th>\n",
       "      <td>03月09日</td>\n",
       "      <td>中雨</td>\n",
       "      <td>17℃</td>\n",
       "      <td>东风</td>\n",
       "      <td>微风</td>\n",
       "    </tr>\n",
       "    <tr>\n",
       "      <th>6</th>\n",
       "      <td>03月10日</td>\n",
       "      <td>中雨</td>\n",
       "      <td>20℃</td>\n",
       "      <td>东风</td>\n",
       "      <td>微风</td>\n",
       "    </tr>\n",
       "  </tbody>\n",
       "</table>\n",
       "</div>"
      ],
      "text/plain": [
       "       日期  天气   气温   风向    风力\n",
       "0      今天   阴  13℃  东北风  4~5级\n",
       "1      明天  大雨  16℃  东北风  3~4级\n",
       "2      后天  中雨  19℃  东北风  4~5级\n",
       "3  03月07日  小雨  16℃  东北风  4~5级\n",
       "4  03月08日  中雨  13℃  东北风  3~4级\n",
       "5  03月09日  中雨  17℃   东风    微风\n",
       "6  03月10日  中雨  20℃   东风    微风"
      ]
     },
     "execution_count": 31,
     "metadata": {},
     "output_type": "execute_result"
    }
   ],
   "source": [
    "weather"
   ]
  },
  {
   "cell_type": "code",
   "execution_count": null,
   "metadata": {},
   "outputs": [],
   "source": []
  }
 ],
 "metadata": {
  "kernelspec": {
   "display_name": "Python 3",
   "language": "python",
   "name": "python3"
  },
  "language_info": {
   "codemirror_mode": {
    "name": "ipython",
    "version": 3
   },
   "file_extension": ".py",
   "mimetype": "text/x-python",
   "name": "python",
   "nbconvert_exporter": "python",
   "pygments_lexer": "ipython3",
   "version": "3.7.1"
  }
 },
 "nbformat": 4,
 "nbformat_minor": 2
}
